{
 "cells": [
  {
   "cell_type": "markdown",
   "id": "ff281547-318c-47ea-a17c-33f43c1449f0",
   "metadata": {
    "jp-MarkdownHeadingCollapsed": true,
    "tags": []
   },
   "source": [
    "## Neden NumPy?"
   ]
  },
  {
   "cell_type": "markdown",
   "id": "da9bd5f4-2767-4ae4-8ce2-51191dbe1281",
   "metadata": {
    "tags": []
   },
   "source": [
    "- Numpy listelere göre çok daha hızlıdır. Çünkü sabit bir veri tipini tutar. (Listelerde birden fazla veri türü olabiliyordu)"
   ]
  },
  {
   "cell_type": "markdown",
   "id": "2bf7cd64",
   "metadata": {},
   "source": [
    "- Listeler tek boyutlu Numpy arraylerine benzerler, Numpy'da tek indeksli diziler aynı şekilde **vektörler**, iki ya da daha fazla indeksli diziler ise **matrisler** ya da **tablolar** olarak adlandırılırlar."
   ]
  },
  {
   "cell_type": "markdown",
   "id": "f5ceff24",
   "metadata": {},
   "source": [
    "- NumPy = Mumeric Python"
   ]
  },
  {
   "cell_type": "code",
   "execution_count": 7,
   "id": "d1281150-9b53-41fb-8670-4c0593a5361c",
   "metadata": {},
   "outputs": [],
   "source": [
    "import numpy as np\n",
    "a = np.array([1,2,3,4])\n",
    "b = np.array([3,5,6,8])\n",
    "ab = a*b"
   ]
  },
  {
   "cell_type": "code",
   "execution_count": 21,
   "id": "dbd4b4d5-27de-43a5-a166-26884f7ab6aa",
   "metadata": {},
   "outputs": [
    {
     "data": {
      "text/plain": [
       "array([ 3, 10, 18, 32])"
      ]
     },
     "execution_count": 21,
     "metadata": {},
     "output_type": "execute_result"
    }
   ],
   "source": [
    "#Dizimizi görelim\n",
    "ab"
   ]
  },
  {
   "cell_type": "code",
   "execution_count": 22,
   "id": "e023fe94-f886-4f52-b29d-bf6c1e54a1a8",
   "metadata": {},
   "outputs": [
    {
     "data": {
      "text/plain": [
       "numpy.ndarray"
      ]
     },
     "execution_count": 22,
     "metadata": {},
     "output_type": "execute_result"
    }
   ],
   "source": [
    "#Dizimizin veri türü\n",
    "type(ab)"
   ]
  },
  {
   "cell_type": "code",
   "execution_count": 15,
   "id": "b05b1119-ce79-4199-a159-e2b2939a09c0",
   "metadata": {},
   "outputs": [
    {
     "data": {
      "text/plain": [
       "array([0, 0, 0, 0, 0, 0, 0])"
      ]
     },
     "execution_count": 15,
     "metadata": {},
     "output_type": "execute_result"
    }
   ],
   "source": [
    "#Şimdi de istediğimiz sayıda integer türde 0'lardan oluşan bir numpy dizisi oluşturalım\n",
    "np.zeros(7, dtype=int)"
   ]
  },
  {
   "cell_type": "code",
   "execution_count": 18,
   "id": "5838036c-4a7a-4064-b127-1ec3bc895a23",
   "metadata": {},
   "outputs": [
    {
     "data": {
      "text/plain": [
       "array([47,  8, 22, 31, 45, 19,  9, 52, 42, 44])"
      ]
     },
     "execution_count": 18,
     "metadata": {},
     "output_type": "execute_result"
    }
   ],
   "source": [
    "#Belirttiğimiz aralıkta istediğimiz sayıda rasgele tam sayılar oluşturalım\n",
    "np.random.randint(0, 70, size=10)"
   ]
  },
  {
   "cell_type": "code",
   "execution_count": 20,
   "id": "dd01ea50-2498-4f6a-b558-b1661fdf1e80",
   "metadata": {},
   "outputs": [
    {
     "data": {
      "text/plain": [
       "array([[10.69704234, 10.10708001,  9.73480669,  5.57332425],\n",
       "       [-0.17964732,  7.90209379,  6.65356855,  5.76901168],\n",
       "       [ 6.44004811,  7.48602313, 11.71265991, 11.81286783]])"
      ]
     },
     "execution_count": 20,
     "metadata": {},
     "output_type": "execute_result"
    }
   ],
   "source": [
    "#Verdiğimiz değerlere göre rasgele bir dağılım oluşturalım\n",
    "#np.random.normal(ortalama, standart sapma, boyut)\n",
    "np.random.normal(10, 4, (3,4))"
   ]
  },
  {
   "cell_type": "markdown",
   "id": "2cb41129-30a8-4b18-b5f7-a28705821811",
   "metadata": {
    "jp-MarkdownHeadingCollapsed": true,
    "tags": []
   },
   "source": [
    "## NumPy Array Özellikleri"
   ]
  },
  {
   "cell_type": "code",
   "execution_count": 2,
   "id": "19b0d5bc-f2d5-4c28-b40e-2307f83a4f22",
   "metadata": {},
   "outputs": [
    {
     "data": {
      "text/plain": [
       "array([2, 5, 6, 8, 6, 1, 5])"
      ]
     },
     "execution_count": 2,
     "metadata": {},
     "output_type": "execute_result"
    }
   ],
   "source": [
    "import numpy as np\n",
    "\n",
    "# [0, 10) aralığında 7 adet rasgele tamsayı üretip a dizisine atayalım\n",
    "a = np.random.randint(10, size=7)\n",
    "a"
   ]
  },
  {
   "cell_type": "markdown",
   "id": "e67beeb1-21e7-4443-a9c8-165b5c6c163e",
   "metadata": {},
   "source": [
    "Şimdi elde ettiğimiz bu dizinin özelliklerine göz atalım."
   ]
  },
  {
   "cell_type": "markdown",
   "id": "1202305e-287e-4b9e-8000-908ecb4fe0ac",
   "metadata": {
    "tags": []
   },
   "source": [
    "### Boyut Sayısı (ndim)"
   ]
  },
  {
   "cell_type": "code",
   "execution_count": 6,
   "id": "a52a9493-9d3a-45ea-b49c-d590c948aefc",
   "metadata": {},
   "outputs": [
    {
     "data": {
      "text/plain": [
       "1"
      ]
     },
     "execution_count": 6,
     "metadata": {},
     "output_type": "execute_result"
    }
   ],
   "source": [
    "a.ndim"
   ]
  },
  {
   "cell_type": "markdown",
   "id": "8ac24434-90a2-4d16-94d1-a41821689757",
   "metadata": {
    "tags": []
   },
   "source": [
    "### Boyut Bilgisi (shape)"
   ]
  },
  {
   "cell_type": "code",
   "execution_count": 7,
   "id": "e79e30eb-e24b-4419-a230-4c4cf2a3aaf5",
   "metadata": {},
   "outputs": [
    {
     "data": {
      "text/plain": [
       "(7,)"
      ]
     },
     "execution_count": 7,
     "metadata": {},
     "output_type": "execute_result"
    }
   ],
   "source": [
    "a.shape"
   ]
  },
  {
   "cell_type": "markdown",
   "id": "c00c1700-f4c9-4f22-8eb7-e404fbc2f840",
   "metadata": {
    "tags": []
   },
   "source": [
    "### Toplam Eleman Sayısı (size)"
   ]
  },
  {
   "cell_type": "code",
   "execution_count": 9,
   "id": "8d9f2601-28af-4fc2-bf3f-c82aa242747c",
   "metadata": {},
   "outputs": [
    {
     "data": {
      "text/plain": [
       "7"
      ]
     },
     "execution_count": 9,
     "metadata": {},
     "output_type": "execute_result"
    }
   ],
   "source": [
    "a.size"
   ]
  },
  {
   "cell_type": "markdown",
   "id": "545af824-e3ee-46ac-9277-b894e065083c",
   "metadata": {
    "tags": []
   },
   "source": [
    "### Array Veri Tipi (dtype)"
   ]
  },
  {
   "cell_type": "code",
   "execution_count": 3,
   "id": "2c5b83ca-5012-4728-b97e-b268b91d3b72",
   "metadata": {},
   "outputs": [
    {
     "data": {
      "text/plain": [
       "dtype('int32')"
      ]
     },
     "execution_count": 3,
     "metadata": {},
     "output_type": "execute_result"
    }
   ],
   "source": [
    "#Dizi elemanlarının veri türü\n",
    "a.dtype"
   ]
  },
  {
   "cell_type": "markdown",
   "id": "5bd30607-c36f-4c32-86dd-c10eb7543d6b",
   "metadata": {
    "jp-MarkdownHeadingCollapsed": true,
    "tags": []
   },
   "source": [
    "## Yeniden Şekillendirme (Reshaping)"
   ]
  },
  {
   "cell_type": "code",
   "execution_count": 11,
   "id": "44daec62-1705-4fae-8d0e-872994ad5d1b",
   "metadata": {},
   "outputs": [
    {
     "data": {
      "text/plain": [
       "array([7, 8, 3, 4, 7, 8, 8, 4, 4])"
      ]
     },
     "execution_count": 11,
     "metadata": {},
     "output_type": "execute_result"
    }
   ],
   "source": [
    "import numpy as np\n",
    "\n",
    "#İlk önce tek boyutlu bir dizi oluşturalım\n",
    "arr = np.random.randint(1, 10, size=9)\n",
    "arr"
   ]
  },
  {
   "cell_type": "code",
   "execution_count": 13,
   "id": "c7a74776-8b91-46b9-a00f-e6da9c5fadbe",
   "metadata": {},
   "outputs": [
    {
     "data": {
      "text/plain": [
       "array([[7, 8, 3],\n",
       "       [4, 7, 8],\n",
       "       [8, 4, 4]])"
      ]
     },
     "execution_count": 13,
     "metadata": {},
     "output_type": "execute_result"
    }
   ],
   "source": [
    "#Şimdi de bunu 3x3'lük 2D bir diziye dönüştürelim\n",
    "#reshape(self, shape, order)\n",
    "arr.reshape(3, 3)"
   ]
  },
  {
   "cell_type": "markdown",
   "id": "54230e48-98ba-4ac1-86f8-f5a17d7fd474",
   "metadata": {
    "jp-MarkdownHeadingCollapsed": true,
    "tags": []
   },
   "source": [
    "## Index işlemleri"
   ]
  },
  {
   "cell_type": "markdown",
   "id": "2ae7c6b3-f10d-4684-9724-04fffcef691a",
   "metadata": {
    "jp-MarkdownHeadingCollapsed": true,
    "tags": []
   },
   "source": [
    "### 1) Tek Boyutlu Dizilerde Index İşlemleri"
   ]
  },
  {
   "cell_type": "markdown",
   "id": "72d56ba9-5fa0-418a-a36b-5e948834926a",
   "metadata": {},
   "source": [
    "Önemli bir konudur. Bazı veri yapıları ile çalışırken bu yapılar içerisindeki verilere erişmek için kullandığımız yöntemlerdir. Bir örnekle pekiştirelim."
   ]
  },
  {
   "cell_type": "code",
   "execution_count": 14,
   "id": "8d2a4d6a-635f-48e9-9f6f-83ddb8e44f84",
   "metadata": {},
   "outputs": [
    {
     "data": {
      "text/plain": [
       "array([3, 6, 1, 5, 3, 9, 1])"
      ]
     },
     "execution_count": 14,
     "metadata": {},
     "output_type": "execute_result"
    }
   ],
   "source": [
    "import numpy as np\n",
    "\n",
    "myArr = np.random.randint(10, size=7)\n",
    "myArr"
   ]
  },
  {
   "cell_type": "code",
   "execution_count": 16,
   "id": "98bdbf01-cf13-412f-85af-c40e827c47fe",
   "metadata": {},
   "outputs": [
    {
     "data": {
      "text/plain": [
       "3"
      ]
     },
     "execution_count": 16,
     "metadata": {},
     "output_type": "execute_result"
    }
   ],
   "source": [
    "#Dizideki ilk elemana ulaşmak için,\n",
    "myArr[0]"
   ]
  },
  {
   "cell_type": "code",
   "execution_count": 18,
   "id": "1567f751-e6f4-4576-b17f-b87e25019dd2",
   "metadata": {},
   "outputs": [
    {
     "data": {
      "text/plain": [
       "array([3, 6, 1, 5])"
      ]
     },
     "execution_count": 18,
     "metadata": {},
     "output_type": "execute_result"
    }
   ],
   "source": [
    "#İlk dört elemanı slice yöntemi ile alalım (ilk index dahil, sonuncu hariç)\n",
    "myArr[:4]"
   ]
  },
  {
   "cell_type": "code",
   "execution_count": 19,
   "id": "373fd98c-b735-42f7-9a73-bbeb94248c39",
   "metadata": {},
   "outputs": [
    {
     "data": {
      "text/plain": [
       "array([ 3,  6,  1,  5,  3,  9, 42])"
      ]
     },
     "execution_count": 19,
     "metadata": {},
     "output_type": "execute_result"
    }
   ],
   "source": [
    "#Son elemanı değiştirelim\n",
    "myArr[-1] = 42\n",
    "myArr"
   ]
  },
  {
   "cell_type": "markdown",
   "id": "c9b74171-36cb-492c-a664-09cb410f5564",
   "metadata": {
    "tags": []
   },
   "source": [
    "### 2) İki Boyutlu Dizilerde İndex İşlemleri"
   ]
  },
  {
   "cell_type": "code",
   "execution_count": 21,
   "id": "b5a95697-f327-410e-86fd-8181c5ec8b07",
   "metadata": {},
   "outputs": [
    {
     "data": {
      "text/plain": [
       "array([[9, 2, 1, 2, 4],\n",
       "       [9, 5, 6, 0, 6],\n",
       "       [4, 4, 9, 0, 3]])"
      ]
     },
     "execution_count": 21,
     "metadata": {},
     "output_type": "execute_result"
    }
   ],
   "source": [
    "#2D bir array oluşturalım; [0, 10) aralığında, boyutu 3x5 olan bir dizi (3 satır, 5 sütun)\n",
    "m = np.random.randint(10, size=(3, 5))\n",
    "m"
   ]
  },
  {
   "cell_type": "code",
   "execution_count": 22,
   "id": "ecca51b3-3d56-4e24-83ef-d8a28f1e5a91",
   "metadata": {},
   "outputs": [
    {
     "data": {
      "text/plain": [
       "6"
      ]
     },
     "execution_count": 22,
     "metadata": {},
     "output_type": "execute_result"
    }
   ],
   "source": [
    "#2. satırda baştan 3. elemana ulaşalım\n",
    "m[1][2]"
   ]
  },
  {
   "cell_type": "code",
   "execution_count": 23,
   "id": "c98d9564-a38b-4c8c-b8a3-7cdf8c46fb24",
   "metadata": {},
   "outputs": [
    {
     "data": {
      "text/plain": [
       "6"
      ]
     },
     "execution_count": 23,
     "metadata": {},
     "output_type": "execute_result"
    }
   ],
   "source": [
    "#Bunu şu şekilde de yapabiliriz,\n",
    "m[1,2]"
   ]
  },
  {
   "cell_type": "code",
   "execution_count": 25,
   "id": "dd37f5eb-98e8-416c-8795-0be944a74093",
   "metadata": {},
   "outputs": [
    {
     "data": {
      "text/plain": [
       "array([[ 9,  2,  1,  2,  4],\n",
       "       [ 9,  5,  6,  0,  6],\n",
       "       [ 4,  4,  9, 99,  3]])"
      ]
     },
     "execution_count": 25,
     "metadata": {},
     "output_type": "execute_result"
    }
   ],
   "source": [
    "#Şimdi de matristeki bir değeri değiştirelim\n",
    "m[2,3] = 99\n",
    "m"
   ]
  },
  {
   "cell_type": "markdown",
   "id": "ffba0df4-5614-4ad6-a484-3ea21c29f843",
   "metadata": {},
   "source": [
    "**NOT:** NumPy dizileri tek tip veri saklar. Şayet bir NumPy dizisine farklı türde bir değer eklemek istersek bu değer dizinin veri türüne dönüştürülmeye çalışılır."
   ]
  },
  {
   "cell_type": "code",
   "execution_count": 26,
   "id": "81edd1e7-52f5-474c-9039-5557e8a32689",
   "metadata": {},
   "outputs": [
    {
     "data": {
      "text/plain": [
       "array([[ 9,  8,  1,  2,  4],\n",
       "       [ 9,  5,  6,  0,  6],\n",
       "       [ 4,  4,  9, 99,  3]])"
      ]
     },
     "execution_count": 26,
     "metadata": {},
     "output_type": "execute_result"
    }
   ],
   "source": [
    "#Örnek: Az önce oluşturduğumuz tam sayı dizisine float bir değer eklemeye çalışalım\n",
    "m[0,1] = 8.45\n",
    "m"
   ]
  },
  {
   "cell_type": "markdown",
   "id": "581eec07-b9c4-4e35-ab77-a0e61d452559",
   "metadata": {},
   "source": [
    "Görüldüğü gibi değer int'e çevrilerek diziye eklendi."
   ]
  },
  {
   "cell_type": "markdown",
   "id": "d6c44407-7cd4-466b-9a48-ff96ea1529e2",
   "metadata": {},
   "source": [
    "**Matriste istediğimiz satır veya sütunları seçebiliriz.**"
   ]
  },
  {
   "cell_type": "code",
   "execution_count": 29,
   "id": "2727a1d5-4bf8-4cd2-92db-864e1754cd37",
   "metadata": {},
   "outputs": [
    {
     "data": {
      "text/plain": [
       "array([9, 9, 4])"
      ]
     },
     "execution_count": 29,
     "metadata": {},
     "output_type": "execute_result"
    }
   ],
   "source": [
    "#Tüm satırların ilk sütununu seçelim\n",
    "m[:, 0]"
   ]
  },
  {
   "cell_type": "code",
   "execution_count": 30,
   "id": "c7bc8e7c-35c5-41da-9611-c016c9fce256",
   "metadata": {},
   "outputs": [
    {
     "data": {
      "text/plain": [
       "array([9, 5, 6, 0, 6])"
      ]
     },
     "execution_count": 30,
     "metadata": {},
     "output_type": "execute_result"
    }
   ],
   "source": [
    "#İkinci satırın tüm sütunlarını seçelim\n",
    "m[1, :]"
   ]
  },
  {
   "cell_type": "markdown",
   "id": "4f69934d-f9b3-44d1-b31a-f3588ea893e6",
   "metadata": {},
   "source": [
    "**veya slicing ile daha spesifik bir alanı da seçebiliriz.** "
   ]
  },
  {
   "cell_type": "code",
   "execution_count": 31,
   "id": "b143de66-b557-4f8a-a0ff-8e3c3acc7bb5",
   "metadata": {},
   "outputs": [
    {
     "data": {
      "text/plain": [
       "array([[8, 1, 2],\n",
       "       [5, 6, 0]])"
      ]
     },
     "execution_count": 31,
     "metadata": {},
     "output_type": "execute_result"
    }
   ],
   "source": [
    "#Hatırlatma: İlk index dahil, sonuncu hariç\n",
    "m[0:2, 1:4]"
   ]
  },
  {
   "cell_type": "markdown",
   "id": "cee8d2af-a722-43e9-a719-1351824bec11",
   "metadata": {
    "jp-MarkdownHeadingCollapsed": true,
    "tags": []
   },
   "source": [
    "## Fancy Index"
   ]
  },
  {
   "cell_type": "markdown",
   "id": "a9d048dd-3961-484c-9e37-22725471f3e2",
   "metadata": {},
   "source": [
    "Elimizdeki bir dizinin belirli bir indeksindeki elemanlara nasıl ulaşacağımızı biliyoruz. Ulaşmak istediğimiz elemanlar birkaç taneden ibaretse herhangi bir sorun yaşamazken çok büyük dizilerde onlarca, yüzlerce elemana ulaşmamız gerekiyorsa eski yöntem baş ağrısına yol açacaktır.\n",
    "NumPy bu sorun için de güzel bir çözüm sunmaktadır. İndeks değerlerini bir listeye atayıp tek bir komutla bu indekslerde bulunan tüm elemanlara ulaşmak. İşte karşınızda _fancy index_"
   ]
  },
  {
   "cell_type": "code",
   "execution_count": 32,
   "id": "dc0c88b8-0b21-4886-8565-6f8dffd5c12d",
   "metadata": {},
   "outputs": [
    {
     "data": {
      "text/plain": [
       "array([ 0,  3,  6,  9, 12, 15, 18, 21, 24, 27, 30, 33, 36, 39, 42, 45, 48,\n",
       "       51, 54, 57, 60, 63, 66, 69, 72, 75, 78, 81, 84, 87, 90, 93, 96, 99])"
      ]
     },
     "execution_count": 32,
     "metadata": {},
     "output_type": "execute_result"
    }
   ],
   "source": [
    "import numpy as np\n",
    "\n",
    "#arange(başlangıç değeri, bitiş değeri, adım sayısı) -> range metodu ile aynı parametrelere sahip\n",
    "ciftSayilar = np.arange(0, 100, 3)\n",
    "ciftSayilar"
   ]
  },
  {
   "cell_type": "code",
   "execution_count": 37,
   "id": "23c0c451-78d3-4e9e-ada8-9604f9ad3865",
   "metadata": {},
   "outputs": [],
   "source": [
    "#İndeks değerlerine sahip listemizi oluşturalım\n",
    "catch = [3, 7, 15, 22, 8]"
   ]
  },
  {
   "cell_type": "code",
   "execution_count": 40,
   "id": "7acd7dcd-b31c-4540-a3a3-f90cc03bc1c0",
   "metadata": {},
   "outputs": [
    {
     "data": {
      "text/plain": [
       "array([ 9, 21, 45, 66, 24])"
      ]
     },
     "execution_count": 40,
     "metadata": {},
     "output_type": "execute_result"
    }
   ],
   "source": [
    "#Şimdi de bu indekslerdeki elemanları alalım. Köşeli parantez kullandığımıza dikkat edin.\n",
    "ciftSayilar[catch]"
   ]
  },
  {
   "cell_type": "markdown",
   "id": "30c63ef1-4e10-474e-a8ad-9fb86fb4ae22",
   "metadata": {
    "jp-MarkdownHeadingCollapsed": true,
    "tags": []
   },
   "source": [
    "## Koşullu İşlemler"
   ]
  },
  {
   "cell_type": "markdown",
   "id": "bc38cb8a-e724-4177-b933-8adaa377d591",
   "metadata": {},
   "source": [
    "Bazen bir veri setindeki belli bir koşula uyan değerleri çekmek isteyebiliriz. Bu işlemi NumPy çok kolaylaştırmıştır. Bir önceki konuda gördüğümüz _fancy index_ mantığını kullanarak ancak doğrudan index değerleri yazmak yerine koşul ifadesi yazabiliriz. Böylece o veri setinde belirttiğimiz koşula uyan değerlere ulaşırız."
   ]
  },
  {
   "cell_type": "code",
   "execution_count": 44,
   "id": "8b57c5b3-7dd0-4c21-871f-25f379c73ea4",
   "metadata": {},
   "outputs": [],
   "source": [
    "import numpy as np\n",
    "\n",
    "#Bir sayı dizisi oluşturalım\n",
    "asal = np.array([2, 3, 5, 7])"
   ]
  },
  {
   "cell_type": "code",
   "execution_count": 46,
   "id": "9cb80798-1c06-4f04-b45a-ed28c024e95d",
   "metadata": {},
   "outputs": [
    {
     "data": {
      "text/plain": [
       "array([False, False,  True,  True])"
      ]
     },
     "execution_count": 46,
     "metadata": {},
     "output_type": "execute_result"
    }
   ],
   "source": [
    "#Bu dizideki her bir eleman için 3'ten büyük olma durumunu sorgulatalım\n",
    "asal>3"
   ]
  },
  {
   "cell_type": "code",
   "execution_count": 47,
   "id": "feab1a63-7b93-4a3f-ae98-f8ef66111a8e",
   "metadata": {},
   "outputs": [
    {
     "data": {
      "text/plain": [
       "array([5, 7])"
      ]
     },
     "execution_count": 47,
     "metadata": {},
     "output_type": "execute_result"
    }
   ],
   "source": [
    "#Bu sorguyu fancy index şeklinde yazarsak bu sefer şarta uyan değerlere ulaşırız\n",
    "asal[asal>3]"
   ]
  },
  {
   "cell_type": "markdown",
   "id": "47f0c17c-c9f4-490a-9f1b-652e8c4f6e6a",
   "metadata": {},
   "source": [
    "**NOT:** Şart ifadesi olarak herhangi bir koşul yazabiliriz."
   ]
  },
  {
   "cell_type": "markdown",
   "id": "db699d21-e574-4ad5-8106-d0c398cf2915",
   "metadata": {},
   "source": [
    "## Matematiksel ve İstatistiksel İşlemler"
   ]
  },
  {
   "cell_type": "markdown",
   "id": "16132902-80fb-4f63-84ca-30e1d752878f",
   "metadata": {},
   "source": [
    "NumPy ile bu işlemleri çok hızlı ve kolay bir şekilde yapabiliriz."
   ]
  },
  {
   "cell_type": "code",
   "execution_count": 48,
   "id": "784a3fb1-4ad4-4d3a-85f2-7242a4644841",
   "metadata": {},
   "outputs": [],
   "source": [
    "import numpy as np\n",
    "\n",
    "sayilar = np.array([10,20,30,40,50])"
   ]
  },
  {
   "cell_type": "code",
   "execution_count": 50,
   "id": "56235f07-c2f7-43c0-8051-9431cecdbe60",
   "metadata": {},
   "outputs": [
    {
     "data": {
      "text/plain": [
       "array([15, 25, 35, 45, 55])"
      ]
     },
     "execution_count": 50,
     "metadata": {},
     "output_type": "execute_result"
    }
   ],
   "source": [
    "#Tüm değerlere 5 ekleyelim\n",
    "sayilar+5"
   ]
  },
  {
   "cell_type": "code",
   "execution_count": 51,
   "id": "229ecba1-76f8-457b-b288-a1ba61c2a21d",
   "metadata": {},
   "outputs": [
    {
     "data": {
      "text/plain": [
       "array([ 7, 17, 27, 37, 47])"
      ]
     },
     "execution_count": 51,
     "metadata": {},
     "output_type": "execute_result"
    }
   ],
   "source": [
    "#Tüm değerlerden 3 çıkaralım\n",
    "sayilar-3"
   ]
  },
  {
   "cell_type": "code",
   "execution_count": 52,
   "id": "ec44f60f-1d6d-44c3-842b-e74f8eb430f3",
   "metadata": {},
   "outputs": [
    {
     "data": {
      "text/plain": [
       "array([ 100,  400,  900, 1600, 2500], dtype=int32)"
      ]
     },
     "execution_count": 52,
     "metadata": {},
     "output_type": "execute_result"
    }
   ],
   "source": [
    "#Karelerini alalım\n",
    "sayilar**2"
   ]
  },
  {
   "cell_type": "markdown",
   "id": "c35350e1-1ef3-40eb-9ea5-a2aa5a18dac5",
   "metadata": {},
   "source": [
    "**Metotları da işe koşabiliriz.**"
   ]
  },
  {
   "cell_type": "code",
   "execution_count": 53,
   "id": "3cf04580-47e4-4a11-922e-82e0afc19ffd",
   "metadata": {},
   "outputs": [
    {
     "data": {
      "text/plain": [
       "array([13, 23, 33, 43, 53])"
      ]
     },
     "execution_count": 53,
     "metadata": {},
     "output_type": "execute_result"
    }
   ],
   "source": [
    "#Toplama\n",
    "np.add(sayilar, 3)"
   ]
  },
  {
   "cell_type": "code",
   "execution_count": 54,
   "id": "82681ed4-bc8d-408a-82b3-39d5308cefbf",
   "metadata": {},
   "outputs": [
    {
     "data": {
      "text/plain": [
       "array([ 5, 15, 25, 35, 45])"
      ]
     },
     "execution_count": 54,
     "metadata": {},
     "output_type": "execute_result"
    }
   ],
   "source": [
    "#Çıkarma\n",
    "np.subtract(sayilar, 5)"
   ]
  },
  {
   "cell_type": "code",
   "execution_count": 55,
   "id": "eef73606-5869-49ee-89b3-0efe805ec10b",
   "metadata": {},
   "outputs": [
    {
     "data": {
      "text/plain": [
       "30.0"
      ]
     },
     "execution_count": 55,
     "metadata": {},
     "output_type": "execute_result"
    }
   ],
   "source": [
    "#Ortalama\n",
    "np.mean(sayilar)"
   ]
  },
  {
   "cell_type": "code",
   "execution_count": 56,
   "id": "90c776b3-8fd8-4a47-892b-f9eb112f7738",
   "metadata": {},
   "outputs": [
    {
     "data": {
      "text/plain": [
       "150"
      ]
     },
     "execution_count": 56,
     "metadata": {},
     "output_type": "execute_result"
    }
   ],
   "source": [
    "#Elemanların toplamı\n",
    "np.sum(sayilar)"
   ]
  },
  {
   "cell_type": "code",
   "execution_count": 57,
   "id": "2e16674d-00a2-4b43-9943-c42e23909828",
   "metadata": {},
   "outputs": [
    {
     "data": {
      "text/plain": [
       "10"
      ]
     },
     "execution_count": 57,
     "metadata": {},
     "output_type": "execute_result"
    }
   ],
   "source": [
    "#Mininmum değer\n",
    "np.min(sayilar)"
   ]
  },
  {
   "cell_type": "code",
   "execution_count": 58,
   "id": "ec1cc68b-f715-4e3e-88b9-3f24a95594cd",
   "metadata": {},
   "outputs": [
    {
     "data": {
      "text/plain": [
       "50"
      ]
     },
     "execution_count": 58,
     "metadata": {},
     "output_type": "execute_result"
    }
   ],
   "source": [
    "#Maksimum değer\n",
    "np.max(sayilar)"
   ]
  },
  {
   "cell_type": "code",
   "execution_count": 59,
   "id": "46d6f8b1-90af-4a9d-93d4-9581450fe7ea",
   "metadata": {},
   "outputs": [
    {
     "data": {
      "text/plain": [
       "200.0"
      ]
     },
     "execution_count": 59,
     "metadata": {},
     "output_type": "execute_result"
    }
   ],
   "source": [
    "#Varyans\n",
    "np.var(sayilar)"
   ]
  },
  {
   "cell_type": "markdown",
   "id": "1c1d6b6f-d15b-4584-b5d8-32418adc0950",
   "metadata": {},
   "source": [
    "Bunların dışında türev - integral alma, iki bilinmeyenli denklem çözme gibi işlemleri de yapabiliriz."
   ]
  }
 ],
 "metadata": {
  "kernelspec": {
   "display_name": "Python 3 (ipykernel)",
   "language": "python",
   "name": "python3"
  },
  "language_info": {
   "codemirror_mode": {
    "name": "ipython",
    "version": 3
   },
   "file_extension": ".py",
   "mimetype": "text/x-python",
   "name": "python",
   "nbconvert_exporter": "python",
   "pygments_lexer": "ipython3",
   "version": "3.9.12"
  },
  "toc-autonumbering": false,
  "toc-showcode": false,
  "toc-showmarkdowntxt": false
 },
 "nbformat": 4,
 "nbformat_minor": 5
}
